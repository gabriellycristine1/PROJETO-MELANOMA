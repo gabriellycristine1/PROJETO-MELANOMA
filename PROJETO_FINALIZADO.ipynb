{
  "cells": [
    {
      "cell_type": "markdown",
      "metadata": {
        "id": "view-in-github",
        "colab_type": "text"
      },
      "source": [
        "<a href=\"https://colab.research.google.com/github/gabriellycristine1/PROJETO-MELANOMA/blob/main/PROJETO_FINALIZADO.ipynb\" target=\"_parent\"><img src=\"https://colab.research.google.com/assets/colab-badge.svg\" alt=\"Open In Colab\"/></a>"
      ]
    },
    {
      "cell_type": "markdown",
      "metadata": {
        "id": "aJ9JvcOLhOt8"
      },
      "source": [
        "Importando Bibliotecas"
      ]
    },
    {
      "cell_type": "code",
      "execution_count": null,
      "metadata": {
        "colab": {
          "base_uri": "https://localhost:8080/"
        },
        "id": "ldtF-_cVmU4y",
        "outputId": "ff8281c1-d490-4dd4-c7ba-47255e55b178"
      },
      "outputs": [
        {
          "output_type": "stream",
          "name": "stdout",
          "text": [
            "Looking in indexes: https://pypi.org/simple, https://us-python.pkg.dev/colab-wheels/public/simple/\n",
            "Collecting efficientnet\n",
            "  Downloading efficientnet-1.1.1-py3-none-any.whl (18 kB)\n",
            "Collecting keras-applications<=1.0.8,>=1.0.7\n",
            "  Downloading Keras_Applications-1.0.8-py3-none-any.whl (50 kB)\n",
            "\u001b[K     |████████████████████████████████| 50 kB 3.3 MB/s \n",
            "\u001b[?25hRequirement already satisfied: scikit-image in /usr/local/lib/python3.7/dist-packages (from efficientnet) (0.18.3)\n",
            "Requirement already satisfied: numpy>=1.9.1 in /usr/local/lib/python3.7/dist-packages (from keras-applications<=1.0.8,>=1.0.7->efficientnet) (1.21.6)\n",
            "Requirement already satisfied: h5py in /usr/local/lib/python3.7/dist-packages (from keras-applications<=1.0.8,>=1.0.7->efficientnet) (3.1.0)\n",
            "Requirement already satisfied: cached-property in /usr/local/lib/python3.7/dist-packages (from h5py->keras-applications<=1.0.8,>=1.0.7->efficientnet) (1.5.2)\n",
            "Requirement already satisfied: matplotlib!=3.0.0,>=2.0.0 in /usr/local/lib/python3.7/dist-packages (from scikit-image->efficientnet) (3.2.2)\n",
            "Requirement already satisfied: PyWavelets>=1.1.1 in /usr/local/lib/python3.7/dist-packages (from scikit-image->efficientnet) (1.3.0)\n",
            "Requirement already satisfied: networkx>=2.0 in /usr/local/lib/python3.7/dist-packages (from scikit-image->efficientnet) (2.6.3)\n",
            "Requirement already satisfied: imageio>=2.3.0 in /usr/local/lib/python3.7/dist-packages (from scikit-image->efficientnet) (2.9.0)\n",
            "Requirement already satisfied: pillow!=7.1.0,!=7.1.1,>=4.3.0 in /usr/local/lib/python3.7/dist-packages (from scikit-image->efficientnet) (7.1.2)\n",
            "Requirement already satisfied: scipy>=1.0.1 in /usr/local/lib/python3.7/dist-packages (from scikit-image->efficientnet) (1.7.3)\n",
            "Requirement already satisfied: tifffile>=2019.7.26 in /usr/local/lib/python3.7/dist-packages (from scikit-image->efficientnet) (2021.11.2)\n",
            "Requirement already satisfied: pyparsing!=2.0.4,!=2.1.2,!=2.1.6,>=2.0.1 in /usr/local/lib/python3.7/dist-packages (from matplotlib!=3.0.0,>=2.0.0->scikit-image->efficientnet) (3.0.9)\n",
            "Requirement already satisfied: python-dateutil>=2.1 in /usr/local/lib/python3.7/dist-packages (from matplotlib!=3.0.0,>=2.0.0->scikit-image->efficientnet) (2.8.2)\n",
            "Requirement already satisfied: kiwisolver>=1.0.1 in /usr/local/lib/python3.7/dist-packages (from matplotlib!=3.0.0,>=2.0.0->scikit-image->efficientnet) (1.4.4)\n",
            "Requirement already satisfied: cycler>=0.10 in /usr/local/lib/python3.7/dist-packages (from matplotlib!=3.0.0,>=2.0.0->scikit-image->efficientnet) (0.11.0)\n",
            "Requirement already satisfied: typing-extensions in /usr/local/lib/python3.7/dist-packages (from kiwisolver>=1.0.1->matplotlib!=3.0.0,>=2.0.0->scikit-image->efficientnet) (4.1.1)\n",
            "Requirement already satisfied: six>=1.5 in /usr/local/lib/python3.7/dist-packages (from python-dateutil>=2.1->matplotlib!=3.0.0,>=2.0.0->scikit-image->efficientnet) (1.15.0)\n",
            "Installing collected packages: keras-applications, efficientnet\n",
            "Successfully installed efficientnet-1.1.1 keras-applications-1.0.8\n",
            "Looking in indexes: https://pypi.org/simple, https://us-python.pkg.dev/colab-wheels/public/simple/\n",
            "Collecting tensorflow-addons==0.8.3\n",
            "  Downloading tensorflow_addons-0.8.3-cp37-cp37m-manylinux2010_x86_64.whl (1.0 MB)\n",
            "\u001b[K     |████████████████████████████████| 1.0 MB 4.8 MB/s \n",
            "\u001b[?25hRequirement already satisfied: typeguard in /usr/local/lib/python3.7/dist-packages (from tensorflow-addons==0.8.3) (2.7.1)\n",
            "Installing collected packages: tensorflow-addons\n",
            "Successfully installed tensorflow-addons-0.8.3\n",
            "Looking in indexes: https://pypi.org/simple, https://us-python.pkg.dev/colab-wheels/public/simple/\n",
            "\u001b[31mERROR: Could not find a version that satisfies the requirement tensorflow==2.2.0-rc3a (from versions: 1.13.1, 1.13.2, 1.14.0, 1.15.0, 1.15.2, 1.15.3, 1.15.4, 1.15.5, 2.0.0, 2.0.1, 2.0.2, 2.0.3, 2.0.4, 2.1.0, 2.1.1, 2.1.2, 2.1.3, 2.1.4, 2.2.0, 2.2.1, 2.2.2, 2.2.3, 2.3.0, 2.3.1, 2.3.2, 2.3.3, 2.3.4, 2.4.0, 2.4.1, 2.4.2, 2.4.3, 2.4.4, 2.5.0, 2.5.1, 2.5.2, 2.5.3, 2.6.0rc0, 2.6.0rc1, 2.6.0rc2, 2.6.0, 2.6.0+zzzcolab20220506153740, 2.6.1, 2.6.2, 2.6.3, 2.6.4, 2.6.4+zzzcolab20220516125453, 2.6.5, 2.6.5+zzzcolab20220523104206, 2.7.0rc0, 2.7.0rc1, 2.7.0, 2.7.0+zzzcolab20220506150900, 2.7.1, 2.7.2, 2.7.2+zzzcolab20220516114640, 2.7.3, 2.7.3+zzzcolab20220523111007, 2.8.0rc0, 2.8.0rc1, 2.8.0, 2.8.0+zzzcolab20220506162203, 2.8.1, 2.8.1+zzzcolab20220516111314, 2.8.1+zzzcolab20220518083849, 2.8.2, 2.8.2+zzzcolab20220523105045, 2.8.2+zzzcolab20220527125636, 2.8.2+zzzcolab20220629235552, 2.8.2+zzzcolab20220714152931, 2.8.2+zzzcolab20220714162028, 2.8.2+zzzcolab20220719082949, 2.9.0rc0, 2.9.0rc1, 2.9.0rc2, 2.9.0, 2.9.1)\u001b[0m\n",
            "\u001b[31mERROR: No matching distribution found for tensorflow==2.2.0-rc3a\u001b[0m\n"
          ]
        }
      ],
      "source": [
        "!pip install -U efficientnet\n",
        "import sys\n",
        "import os\n",
        "from os.path import join\n",
        "import numpy as np \n",
        "import matplotlib.pyplot as plt\n",
        "import efficientnet.keras as efn \n",
        "import tensorflow as tf\n",
        "!pip install --user tensorflow-addons==0.8.3\n",
        "!pip install --user tensorflow==2.2.0-rc3a\n",
        "from keras.preprocessing.image import load_img, img_to_array\n",
        "from keras import models, regularizers, layers, optimizers, losses, metrics\n",
        "from keras.models import Sequential\n",
        "from keras.layers import Dense , Dropout , Flatten , MaxPooling2D , BatchNormalization\n",
        "from keras.utils import np_utils\n",
        "from keras.preprocessing.image import ImageDataGenerator\n",
        "from keras.preprocessing import image\n",
        "import zipfile\n",
        "from google.colab.patches import cv2_imshow\n",
        "from google.colab import drive"
      ]
    },
    {
      "cell_type": "markdown",
      "metadata": {
        "id": "lniSzLoDhTbC"
      },
      "source": [
        "conectando o drive ao google colab para importação do arquivo"
      ]
    },
    {
      "cell_type": "code",
      "execution_count": null,
      "metadata": {
        "colab": {
          "base_uri": "https://localhost:8080/"
        },
        "id": "OKBjYLqcmO3u",
        "outputId": "b7c0b27d-076d-4b52-d204-962096152a11"
      },
      "outputs": [
        {
          "output_type": "stream",
          "name": "stdout",
          "text": [
            "Mounted at /content/drive\n"
          ]
        }
      ],
      "source": [
        "from google.colab import drive\n",
        "drive.mount('/content/drive')"
      ]
    },
    {
      "cell_type": "markdown",
      "metadata": {
        "id": "-4YaZVbYhdta"
      },
      "source": [
        "abrindo o arquivo zipado"
      ]
    },
    {
      "cell_type": "code",
      "execution_count": null,
      "metadata": {
        "id": "pw78_sLYmZyq"
      },
      "outputs": [],
      "source": [
        "path = '/content/drive/MyDrive/MELANOMA_FINAL.zip'\n",
        "zip_object = zipfile.ZipFile(file = path, mode='r')\n",
        "zip_object.extractall('./')\n",
        "zip_object.close()"
      ]
    },
    {
      "cell_type": "markdown",
      "metadata": {
        "id": "EJnnpPGPhnOc"
      },
      "source": [
        "copiando o caminho do diretorio"
      ]
    },
    {
      "cell_type": "code",
      "execution_count": null,
      "metadata": {
        "id": "4CPjbD8a6mmy"
      },
      "outputs": [],
      "source": [
        "PATH = \"/content/DermMel\""
      ]
    },
    {
      "cell_type": "markdown",
      "metadata": {
        "id": "EFx9y3nKhqsA"
      },
      "source": [
        "verificando o nome das pastas"
      ]
    },
    {
      "cell_type": "code",
      "execution_count": null,
      "metadata": {
        "id": "PTvZx4cUmcP-",
        "colab": {
          "base_uri": "https://localhost:8080/",
          "height": 52
        },
        "outputId": "ebcd56b9-b68e-4c9c-8ae1-90526f5b7469"
      },
      "outputs": [
        {
          "output_type": "stream",
          "name": "stdout",
          "text": [
            "Total Directories\n"
          ]
        },
        {
          "output_type": "display_data",
          "data": {
            "text/plain": [
              "['train_sep', 'valid', 'test']"
            ]
          },
          "metadata": {}
        }
      ],
      "source": [
        "print('Total Directories')\n",
        "display(os.listdir(PATH))"
      ]
    },
    {
      "cell_type": "markdown",
      "metadata": {
        "id": "RFoqCcOBhtmz"
      },
      "source": [
        "verificação de quantas imagens temos para treino, teste e validação "
      ]
    },
    {
      "cell_type": "code",
      "execution_count": null,
      "metadata": {
        "id": "25U_njv_9PGX",
        "colab": {
          "base_uri": "https://localhost:8080/"
        },
        "outputId": "eb543b29-d729-4d89-e4e4-c2c0cf955762"
      },
      "outputs": [
        {
          "output_type": "stream",
          "name": "stdout",
          "text": [
            "2 PASTAS DE TREINO\n",
            "Melanoma 5341\n",
            "NotMelanoma 5341\n",
            "TOTAL DE FOTOS PARA TREINO 10682\n",
            "__________________________________________________\n",
            "2 PASTAS DE VALIDAÇÃO\n",
            "Melanoma 1781\n",
            "NotMelanoma 1781\n",
            "TOTAL DE FOTOS PARA VALIDAÇÃO 3562\n",
            "__________________________________________________\n",
            "2 PASTAS DE TESTE\n",
            "Melanoma 1781\n",
            "NotMelanoma 1781\n",
            "TOTAL DE FOTOS PARA TESTE 3560\n",
            "__________________________________________________\n"
          ]
        }
      ],
      "source": [
        "PATHtrain = \"/content/DermMel/train_sep\"\n",
        "print(len(os.listdir(PATHtrain)), \"PASTAS DE TREINO\")\n",
        "drs = os.listdir(PATHtrain)\n",
        "im_len = 0\n",
        "for label in sorted(drs):\n",
        "    print(label,len(os.listdir('/content/DermMel/train_sep/Melanoma')))\n",
        "    im_len = im_len + len(os.listdir('/content/DermMel/train_sep/NotMelanoma'))\n",
        "\n",
        "print(\"TOTAL DE FOTOS PARA TREINO\", im_len)\n",
        "print(\"_\"*50)\n",
        "\n",
        "PATHvalid = '/content/DermMel/valid'\n",
        "print(len(os.listdir(PATHvalid)), \"PASTAS DE VALIDAÇÃO\")\n",
        "drs = os.listdir(PATHvalid)\n",
        "im_len = 0\n",
        "for label in sorted(drs):\n",
        "    print(label,len(os.listdir('/content/DermMel/valid/Melanoma')))\n",
        "    im_len = im_len + len(os.listdir('/content/DermMel/valid/NotMelanoma'))\n",
        "\n",
        "print(\"TOTAL DE FOTOS PARA VALIDAÇÃO\", im_len)\n",
        "print(\"_\"*50)\n",
        "\n",
        "PATHtest ='/content/DermMel/test'\n",
        "print(len(os.listdir(PATHtest)), \"PASTAS DE TESTE\")\n",
        "drs = os.listdir(PATHtest)\n",
        "im_len = 0\n",
        "\n",
        "for label in sorted(drs):\n",
        "    print(label,len(os.listdir('/content/DermMel/test/Melanoma')))\n",
        "    im_len = im_len + len(os.listdir('/content/DermMel/test/NotMelanoma'))\n",
        "\n",
        "print(\"TOTAL DE FOTOS PARA TESTE\", im_len)\n",
        "print(\"_\"*50)"
      ]
    },
    {
      "cell_type": "code",
      "execution_count": null,
      "metadata": {
        "id": "qdVzjmN76Fiy"
      },
      "outputs": [],
      "source": [
        "from PIL import Image\n",
        "import cv2\n",
        "from google.colab.patches import cv2_imshow"
      ]
    },
    {
      "cell_type": "markdown",
      "metadata": {
        "id": "CbkWCekzh3JT"
      },
      "source": [
        "função criada para converter as imagens em escala de cinza"
      ]
    },
    {
      "cell_type": "code",
      "execution_count": null,
      "metadata": {
        "id": "_b3IDpBv6AUE"
      },
      "outputs": [],
      "source": [
        "def dados_imagem():\n",
        "  caminhos = [os.path.join('/content/DermMel/train_sep/Melanoma', f) for f in os.listdir('/content/DermMel/train_sep/Melanoma')]\n",
        "  mela = []\n",
        "  for caminho in caminhos:\n",
        "    imagem = cv2.imread(caminho)\n",
        "    imagem = Image.open(caminho).convert('L')\n",
        "    imagem_np = np.array(imagem, 'uint8')\n",
        "    val, thresh = cv2.threshold(imagem_np, 155, 255, cv2.THRESH_OTSU+cv2.THRESH_BINARY_INV)\n",
        "    plt.imshow(thresh, cmap='gray')\n",
        "    \n",
        "    mela.append(thresh)\n",
        "  return mela"
      ]
    },
    {
      "cell_type": "code",
      "execution_count": null,
      "metadata": {
        "colab": {
          "base_uri": "https://localhost:8080/",
          "height": 269
        },
        "id": "_MYtWGRS6JTB",
        "outputId": "885c2812-4479-4460-dd73-93fdfbf47b48"
      },
      "outputs": [
        {
          "output_type": "display_data",
          "data": {
            "text/plain": [
              "<Figure size 432x288 with 1 Axes>"
            ],
            "image/png": "[encoded data removed]"
          },
          "metadata": {
            "needs_background": "light"
          }
        }
      ],
      "source": [
        "mela = dados_imagem()"
      ]
    },
    {
      "cell_type": "code",
      "execution_count": null,
      "metadata": {
        "id": "BYPWtuw_6Rnq"
      },
      "outputs": [],
      "source": [
        "from efficientnet.tfkeras import EfficientNetB7\n",
        "from keras.callbacks import EarlyStopping,ModelCheckpoint\n",
        "from keras.layers import MaxPool2D\n",
        "from keras.regularizers import l2\n",
        "from google.colab.patches import cv2\n",
        "from keras.layers.convolutional import Conv2D\n",
        "from keras.layers.convolutional import MaxPooling2D"
      ]
    },
    {
      "cell_type": "markdown",
      "metadata": {
        "id": "no4AVZwniPSi"
      },
      "source": [
        "O EfficientNetB0 é usado porque é um modelo confiável para uma precisão relativamente boa e porque é rápido de treinar devido ao baixo número de parâmetros."
      ]
    },
    {
      "cell_type": "code",
      "execution_count": null,
      "metadata": {
        "id": "57RPDvY66Xzh",
        "colab": {
          "base_uri": "https://localhost:8080/"
        },
        "outputId": "51e90de6-3f8a-45ec-a74a-cc916b60c3d4"
      },
      "outputs": [
        {
          "output_type": "stream",
          "name": "stdout",
          "text": [
            "Downloading data from https://github.com/Callidior/keras-applications/releases/download/efficientnet/efficientnet-b7_weights_tf_dim_ordering_tf_kernels_autoaugment_notop.h5\n",
            "258441216/258434480 [==============================] - 4s 0us/step\n",
            "258449408/258434480 [==============================] - 4s 0us/step\n"
          ]
        }
      ],
      "source": [
        "eff = EfficientNetB7(input_shape=(100,100,3) , include_top=False , weights='imagenet')\n",
        "\n",
        "model = Sequential()\n",
        "model.add(eff)\n",
        "model.add(Flatten())\n",
        "model.add(Dropout(0.3))\n",
        "model.add(Dense(128 , activation='relu' , kernel_regularizer=regularizers.l2(0.01) ))\n",
        "model.add(BatchNormalization())\n",
        "model.add(Dropout(0.3))\n",
        "model.add(Dense(2, activation='sigmoid')) "
      ]
    },
    {
      "cell_type": "code",
      "execution_count": null,
      "metadata": {
        "id": "coMVI-8bjSIm",
        "colab": {
          "base_uri": "https://localhost:8080/"
        },
        "outputId": "496fe256-083a-4e00-e1a4-9b02ca6cd56c"
      },
      "outputs": [
        {
          "output_type": "stream",
          "name": "stdout",
          "text": [
            "Model: \"sequential\"\n",
            "_________________________________________________________________\n",
            " Layer (type)                Output Shape              Param #   \n",
            "=================================================================\n",
            " efficientnet-b7 (Functional  (None, 4, 4, 2560)       64097680  \n",
            " )                                                               \n",
            "                                                                 \n",
            " flatten (Flatten)           (None, 40960)             0         \n",
            "                                                                 \n",
            " dropout (Dropout)           (None, 40960)             0         \n",
            "                                                                 \n",
            " dense (Dense)               (None, 128)               5243008   \n",
            "                                                                 \n",
            " batch_normalization (BatchN  (None, 128)              512       \n",
            " ormalization)                                                   \n",
            "                                                                 \n",
            " dropout_1 (Dropout)         (None, 128)               0         \n",
            "                                                                 \n",
            " dense_1 (Dense)             (None, 2)                 258       \n",
            "                                                                 \n",
            "=================================================================\n",
            "Total params: 69,341,458\n",
            "Trainable params: 69,030,482\n",
            "Non-trainable params: 310,976\n",
            "_________________________________________________________________\n"
          ]
        }
      ],
      "source": [
        "model.summary()"
      ]
    },
    {
      "cell_type": "markdown",
      "metadata": {
        "id": "VJulqgPcitNU"
      },
      "source": [
        "usando o \"imageDataGenerator\" para gerar novas imagens para treino e definindo as classes em 0 e 1"
      ]
    },
    {
      "cell_type": "code",
      "execution_count": null,
      "metadata": {
        "colab": {
          "base_uri": "https://localhost:8080/"
        },
        "id": "PVQw9tg-6bLi",
        "outputId": "feda67cf-bb0d-474c-dab0-1c194b4b0c36"
      },
      "outputs": [
        {
          "output_type": "stream",
          "name": "stdout",
          "text": [
            "Found 10682 images belonging to 2 classes.\n",
            "Found 3562 images belonging to 2 classes.\n",
            "Found 3561 images belonging to 2 classes.\n"
          ]
        }
      ],
      "source": [
        "train_dir = PATHtrain\n",
        "validation_dir = PATHvalid\n",
        "test_dir = PATHtest\n",
        "batch_size = 50\n",
        "target_size=(100, 100)\n",
        "\n",
        "#train_datagen = ImageDataGenerator(rescale=1./255)\n",
        "train_datagen = ImageDataGenerator(rescale=1./255,\n",
        "                                   rotation_range=40,\n",
        "                                   width_shift_range=0.2,\n",
        "                                   height_shift_range=0.2,\n",
        "                                   shear_range=0.2,\n",
        "                                   zoom_range=0.2,\n",
        "                                   fill_mode='nearest')\n",
        "\n",
        "test_datagen = ImageDataGenerator(rescale=1./255)\n",
        "\n",
        "train_generator = train_datagen.flow_from_directory(\n",
        "    train_dir,target_size=target_size,batch_size=batch_size)\n",
        "validation_generator = test_datagen.flow_from_directory(\n",
        "    validation_dir,target_size=target_size,batch_size=batch_size)\n",
        "test_generator = test_datagen.flow_from_directory(\n",
        "    test_dir,target_size=target_size,batch_size=batch_size)"
      ]
    },
    {
      "cell_type": "markdown",
      "metadata": {
        "id": "wis4jam27nPb"
      },
      "source": [
        "verificando as classes"
      ]
    },
    {
      "cell_type": "code",
      "execution_count": null,
      "metadata": {
        "colab": {
          "base_uri": "https://localhost:8080/"
        },
        "id": "JI2bRR7r6lcs",
        "outputId": "3e77f99b-928f-4cf4-982a-fe43a1a25a6d"
      },
      "outputs": [
        {
          "output_type": "stream",
          "name": "stdout",
          "text": [
            "{'Melanoma': 0, 'NotMelanoma': 1}\n"
          ]
        }
      ],
      "source": [
        "print(train_generator.class_indices)"
      ]
    },
    {
      "cell_type": "markdown",
      "metadata": {
        "id": "Ew4QB-Do7s0A"
      },
      "source": [
        "definindo os parametros que vao ser usados dentro de callback"
      ]
    },
    {
      "cell_type": "code",
      "execution_count": null,
      "metadata": {
        "id": "QBNmPf7M6nvt"
      },
      "outputs": [],
      "source": [
        "earlystopping = EarlyStopping(monitor =\"val_loss\", \n",
        "                                        patience = 8, \n",
        "                                        restore_best_weights = True)\n",
        "\n",
        "model.compile(optimizer='adam',\n",
        "              loss='binary_crossentropy',\n",
        "              metrics=['accuracy'] )  "
      ]
    },
    {
      "cell_type": "code",
      "execution_count": null,
      "metadata": {
        "id": "Ns415J8x7tw3"
      },
      "outputs": [],
      "source": [
        "checkpoint = ModelCheckpoint('chest_orientation_model.hdf5', \n",
        "                             monitor='val_loss', \n",
        "                             verbose=1, mode='min', \n",
        "                             save_best_only=True)\n"
      ]
    },
    {
      "cell_type": "code",
      "execution_count": null,
      "metadata": {
        "id": "FgqgQMrMO7WX"
      },
      "outputs": [],
      "source": [
        "from keras.callbacks import ModelCheckpoint, LearningRateScheduler, EarlyStopping, ReduceLROnPlateau"
      ]
    },
    {
      "cell_type": "code",
      "execution_count": null,
      "metadata": {
        "colab": {
          "base_uri": "https://localhost:8080/"
        },
        "id": "QPrXn4OIO0qU",
        "outputId": "cc3d1509-34e0-4bf2-9ece-96ff1107460d"
      },
      "outputs": [
        {
          "output_type": "stream",
          "name": "stdout",
          "text": [
            "WARNING:tensorflow:`epsilon` argument is deprecated and will be removed, use `min_delta` instead.\n"
          ]
        }
      ],
      "source": [
        "reduceLROnPlat = ReduceLROnPlateau(monitor='val_loss', factor=0.8, patience=10, verbose=1, mode='auto', epsilon=0.0001)"
      ]
    },
    {
      "cell_type": "markdown",
      "metadata": {
        "id": "0LmAhIm-TDwW"
      },
      "source": [
        "treianando e validando nosso modelo"
      ]
    },
    {
      "cell_type": "code",
      "source": [
        "history = model.fit_generator(train_generator,\n",
        "                              epochs=30,\n",
        "                              steps_per_epoch = 10682 // batch_size,\n",
        "                              validation_data = validation_generator,\n",
        "                              validation_steps = 3562 // batch_size,\n",
        "                              callbacks=[earlystopping,checkpoint,reduceLROnPlat])"
      ],
      "metadata": {
        "colab": {
          "base_uri": "https://localhost:8080/"
        },
        "id": "z0RkLL6q51cF",
        "outputId": "53e1326a-f788-429c-ee13-4ecce6bb1a7f"
      },
      "execution_count": null,
      "outputs": [
        {
          "output_type": "stream",
          "name": "stderr",
          "text": [
            "/usr/local/lib/python3.7/dist-packages/ipykernel_launcher.py:6: UserWarning: `Model.fit_generator` is deprecated and will be removed in a future version. Please use `Model.fit`, which supports generators.\n",
            "  \n"
          ]
        },
        {
          "output_type": "stream",
          "name": "stdout",
          "text": [
            "Epoch 1/30\n",
            "213/213 [==============================] - ETA: 0s - loss: 1.0808 - accuracy: 0.8757\n",
            "Epoch 1: val_loss improved from inf to 1.33287, saving model to chest_orientation_model.hdf5\n",
            "213/213 [==============================] - 223s 841ms/step - loss: 1.0808 - accuracy: 0.8757 - val_loss: 1.3329 - val_accuracy: 0.5014 - lr: 0.0010\n",
            "Epoch 2/30\n",
            "213/213 [==============================] - ETA: 0s - loss: 0.2986 - accuracy: 0.9243\n",
            "Epoch 2: val_loss improved from 1.33287 to 0.38237, saving model to chest_orientation_model.hdf5\n",
            "213/213 [==============================] - 166s 780ms/step - loss: 0.2986 - accuracy: 0.9243 - val_loss: 0.3824 - val_accuracy: 0.8851 - lr: 0.0010\n",
            "Epoch 3/30\n",
            "213/213 [==============================] - ETA: 0s - loss: 0.3026 - accuracy: 0.9331\n",
            "Epoch 3: val_loss improved from 0.38237 to 0.32397, saving model to chest_orientation_model.hdf5\n",
            "213/213 [==============================] - 166s 779ms/step - loss: 0.3026 - accuracy: 0.9331 - val_loss: 0.3240 - val_accuracy: 0.9301 - lr: 0.0010\n",
            "Epoch 4/30\n",
            "213/213 [==============================] - ETA: 0s - loss: 0.3465 - accuracy: 0.9394\n",
            "Epoch 4: val_loss did not improve from 0.32397\n",
            "213/213 [==============================] - 164s 767ms/step - loss: 0.3465 - accuracy: 0.9394 - val_loss: 0.4907 - val_accuracy: 0.9411 - lr: 0.0010\n",
            "Epoch 5/30\n",
            "213/213 [==============================] - ETA: 0s - loss: 0.4327 - accuracy: 0.9335\n",
            "Epoch 5: val_loss did not improve from 0.32397\n",
            "213/213 [==============================] - 161s 757ms/step - loss: 0.4327 - accuracy: 0.9335 - val_loss: 0.3515 - val_accuracy: 0.9369 - lr: 0.0010\n",
            "Epoch 6/30\n",
            "213/213 [==============================] - ETA: 0s - loss: 0.3228 - accuracy: 0.9422\n",
            "Epoch 6: val_loss did not improve from 0.32397\n",
            "213/213 [==============================] - 162s 761ms/step - loss: 0.3228 - accuracy: 0.9422 - val_loss: 0.3348 - val_accuracy: 0.9439 - lr: 0.0010\n",
            "Epoch 7/30\n",
            "213/213 [==============================] - ETA: 0s - loss: 0.3054 - accuracy: 0.9461\n",
            "Epoch 7: val_loss did not improve from 0.32397\n",
            "213/213 [==============================] - 163s 762ms/step - loss: 0.3054 - accuracy: 0.9461 - val_loss: 2.2822 - val_accuracy: 0.5425 - lr: 0.0010\n",
            "Epoch 8/30\n",
            "213/213 [==============================] - ETA: 0s - loss: 0.4050 - accuracy: 0.9464\n",
            "Epoch 8: val_loss did not improve from 0.32397\n",
            "213/213 [==============================] - 163s 761ms/step - loss: 0.4050 - accuracy: 0.9464 - val_loss: 0.4351 - val_accuracy: 0.9394 - lr: 0.0010\n",
            "Epoch 9/30\n",
            "213/213 [==============================] - ETA: 0s - loss: 0.3710 - accuracy: 0.9495\n",
            "Epoch 9: val_loss did not improve from 0.32397\n",
            "213/213 [==============================] - 164s 770ms/step - loss: 0.3710 - accuracy: 0.9495 - val_loss: 0.4872 - val_accuracy: 0.9470 - lr: 0.0010\n",
            "Epoch 10/30\n",
            "213/213 [==============================] - ETA: 0s - loss: 0.3407 - accuracy: 0.9522\n",
            "Epoch 10: val_loss did not improve from 0.32397\n",
            "213/213 [==============================] - 165s 774ms/step - loss: 0.3407 - accuracy: 0.9522 - val_loss: 0.4661 - val_accuracy: 0.9042 - lr: 0.0010\n",
            "Epoch 11/30\n",
            "213/213 [==============================] - ETA: 0s - loss: 0.3542 - accuracy: 0.9551\n",
            "Epoch 11: val_loss did not improve from 0.32397\n",
            "213/213 [==============================] - 164s 770ms/step - loss: 0.3542 - accuracy: 0.9551 - val_loss: 0.5639 - val_accuracy: 0.9208 - lr: 0.0010\n"
          ]
        }
      ]
    },
    {
      "cell_type": "markdown",
      "metadata": {
        "id": "Bk0rkLjTUKy7"
      },
      "source": [
        "criando graficos"
      ]
    },
    {
      "cell_type": "code",
      "execution_count": null,
      "metadata": {
        "colab": {
          "base_uri": "https://localhost:8080/",
          "height": 545
        },
        "id": "ShHitmXpALjz",
        "outputId": "de979606-88ba-48d1-8159-dfbeec9686f3"
      },
      "outputs": [
        {
          "output_type": "display_data",
          "data": {
            "text/plain": [
              "<Figure size 432x288 with 1 Axes>"
            ],
            "image/png": "[encoded data removed]"
          },
          "metadata": {}
        },
        {
          "output_type": "display_data",
          "data": {
            "text/plain": [
              "<Figure size 432x288 with 1 Axes>"
            ],
            "image/png": "[encoded data removed]"
          },
          "metadata": {}
        }
      ],
      "source": [
        "acc = history.history['accuracy']\n",
        "val_acc = history.history['val_accuracy']\n",
        "loss = history.history['loss']\n",
        "val_loss = history.history['val_loss']\n",
        "epochs = range(1, len(acc) + 1)\n",
        "plt.style.use('dark_background')\n",
        "plt.plot(epochs, acc, 'bo', label='Treino Accuracy')\n",
        "plt.plot(epochs, val_acc, 'r', label='Validation acc')\n",
        "plt.title('Treino e validação accuracy')\n",
        "plt.legend()\n",
        "plt.figure()\n",
        "plt.plot(epochs, loss, 'bo', label='Treino Perdas')\n",
        "plt.plot(epochs, val_loss, 'r', label='Validation loss')\n",
        "plt.title('Treino e Validação perda')\n",
        "plt.legend()\n",
        "plt.show()"
      ]
    },
    {
      "cell_type": "markdown",
      "metadata": {
        "id": "pkypeskMUMTy"
      },
      "source": [
        "salvando modelo"
      ]
    },
    {
      "cell_type": "code",
      "execution_count": null,
      "metadata": {
        "id": "fFTqd9u_OEbL"
      },
      "outputs": [],
      "source": [
        "#!pip install simpletransformers"
      ]
    },
    {
      "cell_type": "code",
      "execution_count": null,
      "metadata": {
        "id": "nD_YQxe767s0",
        "colab": {
          "base_uri": "https://localhost:8080/"
        },
        "outputId": "aff98803-fdc8-43dd-fef1-7dcbf53d702f"
      },
      "outputs": [
        {
          "output_type": "stream",
          "name": "stdout",
          "text": [
            "72/72 - 27s - 27s/epoch - 375ms/step\n"
          ]
        }
      ],
      "source": [
        "\n",
        "y=np.concatenate([test_generator.next()[1] for i in range(test_generator.__len__())])\n",
        "true_labels=np.argmax(y, axis=-1)\n",
        "\n",
        "prediction= model.predict(test_generator, verbose=2)\n",
        "prediction=np.argmax(prediction, axis=-1)"
      ]
    },
    {
      "cell_type": "markdown",
      "metadata": {
        "id": "EfO04BOSUPRd"
      },
      "source": [
        "estartisticas do nosso modelo"
      ]
    },
    {
      "cell_type": "code",
      "execution_count": null,
      "metadata": {
        "colab": {
          "base_uri": "https://localhost:8080/"
        },
        "id": "n73oq1DNG0y4",
        "outputId": "961991df-f7a8-43b8-ff9f-a573e70833bc"
      },
      "outputs": [
        {
          "output_type": "stream",
          "name": "stdout",
          "text": [
            "Accuracy: 0.918\n",
            "Precisao: 0.912\n"
          ]
        }
      ],
      "source": [
        "from sklearn.metrics import accuracy_score\n",
        "acc=accuracy_score(true_labels,prediction) \n",
        "print('Accuracy: %.3f' % acc)\n",
        "from sklearn.metrics import precision_score\n",
        "precision = precision_score(true_labels,prediction,labels=[1,2], average='micro')\n",
        "print('Precisao: %.3f' % precision)\n",
        "from sklearn.metrics import recall_score\n",
        "recall = recall_score(true_labels,prediction, average='binary')\n"
      ]
    },
    {
      "cell_type": "code",
      "execution_count": null,
      "metadata": {
        "colab": {
          "base_uri": "https://localhost:8080/"
        },
        "id": "vMKWyeRgnAC3",
        "outputId": "c5043e1f-335d-4137-e4e1-eb75427914ed"
      },
      "outputs": [
        {
          "output_type": "execute_result",
          "data": {
            "text/plain": [
              "array([[1621,  160],\n",
              "       [ 131, 1649]])"
            ]
          },
          "metadata": {},
          "execution_count": 24
        }
      ],
      "source": [
        "from sklearn.metrics import confusion_matrix\n",
        "cm = confusion_matrix(y_true=true_labels, y_pred=prediction)\n",
        "cm"
      ]
    },
    {
      "cell_type": "code",
      "execution_count": null,
      "metadata": {
        "id": "W-NMRvw47VTI"
      },
      "outputs": [],
      "source": [
        "from keras.preprocessing.image import load_img, img_to_array"
      ]
    },
    {
      "cell_type": "code",
      "execution_count": null,
      "metadata": {
        "id": "ItZWejGuTwt2"
      },
      "outputs": [],
      "source": [
        "from keras import models"
      ]
    },
    {
      "cell_type": "code",
      "source": [
        "path = '/content/drive/MyDrive/chest_orientation_model.zip'\n",
        "zip_object = zipfile.ZipFile(file = path, mode='r')\n",
        "zip_object.extractall('./')\n",
        "zip_object.close()"
      ],
      "metadata": {
        "id": "WSUpaiWIHYWo"
      },
      "execution_count": null,
      "outputs": []
    },
    {
      "cell_type": "code",
      "execution_count": null,
      "metadata": {
        "id": "UfHwfhohTAne"
      },
      "outputs": [],
      "source": [
        "model = models.load_model('/content/chest_orientation_model.hdf5')"
      ]
    },
    {
      "cell_type": "code",
      "execution_count": null,
      "metadata": {
        "id": "gplQY9vQb3Io"
      },
      "outputs": [],
      "source": [
        "import cv2\n",
        "import numpy as np\n",
        "from skimage.transform import resize\n",
        "from keras.preprocessing import image\n",
        "from PIL import Image"
      ]
    },
    {
      "cell_type": "code",
      "source": [
        "path = '/content/drive/MyDrive/melanoma_cancer_dataset-20220802T172035Z-001.zip'\n",
        "zip_object = zipfile.ZipFile(file = path, mode='r')\n",
        "zip_object.extractall('./')\n",
        "zip_object.close()"
      ],
      "metadata": {
        "id": "ePMPau6wom_g"
      },
      "execution_count": null,
      "outputs": []
    },
    {
      "cell_type": "code",
      "source": [
        "img = Image.open('/content/melanoma_cancer_dataset-20220802T172035Z-001/melanoma_cancer_dataset/test/benign/melanoma_9628.jpg')\n",
        "img_np = np.array(img, 'uint8')\n",
        "img_np = np.expand_dims(img_np,axis=0)"
      ],
      "metadata": {
        "id": "WEluv63j8Hh-"
      },
      "execution_count": null,
      "outputs": []
    },
    {
      "cell_type": "code",
      "source": [
        "img_np.shape"
      ],
      "metadata": {
        "colab": {
          "base_uri": "https://localhost:8080/"
        },
        "id": "IIvty5ZT8dE9",
        "outputId": "b101ea25-76b7-4cfe-fd64-58e67831c327"
      },
      "execution_count": null,
      "outputs": [
        {
          "output_type": "execute_result",
          "data": {
            "text/plain": [
              "(1, 100, 100, 3)"
            ]
          },
          "metadata": {},
          "execution_count": 32
        }
      ]
    },
    {
      "cell_type": "code",
      "execution_count": null,
      "metadata": {
        "id": "i1jRdQlWJ_V4",
        "colab": {
          "base_uri": "https://localhost:8080/"
        },
        "outputId": "37c50efa-1f4b-4df2-9a09-b9a760b8baa5"
      },
      "outputs": [
        {
          "output_type": "stream",
          "name": "stdout",
          "text": [
            "[[0. 1.]]\n"
          ]
        }
      ],
      "source": [
        "reconhecedor = model.predict(img_np.reshape(1,100,100,3))\n",
        "print(reconhecedor)"
      ]
    },
    {
      "cell_type": "code",
      "source": [
        "import torch"
      ],
      "metadata": {
        "id": "egGv-_1orH4t"
      },
      "execution_count": null,
      "outputs": []
    },
    {
      "cell_type": "code",
      "source": [
        "prev = torch.tensor(reconhecedor)\n",
        "x_rand = torch.rand_like(prev, dtype=torch.float)\n",
        "print(x_rand)\n"
      ],
      "metadata": {
        "colab": {
          "base_uri": "https://localhost:8080/"
        },
        "id": "J8I2ZeGhq5lN",
        "outputId": "d4310ea7-402d-418a-8a2a-248f70bf8541"
      },
      "execution_count": null,
      "outputs": [
        {
          "output_type": "stream",
          "name": "stdout",
          "text": [
            "tensor([[0.3025, 0.5224]])\n"
          ]
        }
      ]
    },
    {
      "cell_type": "code",
      "source": [
        "x_rand1 = np.array(x_rand)\n",
        "x_rand1"
      ],
      "metadata": {
        "colab": {
          "base_uri": "https://localhost:8080/"
        },
        "id": "2SFrGGolr9Q9",
        "outputId": "52213368-f2ba-4e7e-97c5-fe23baf9fc3f"
      },
      "execution_count": null,
      "outputs": [
        {
          "output_type": "execute_result",
          "data": {
            "text/plain": [
              "array([[0.3025298, 0.522416 ]], dtype=float32)"
            ]
          },
          "metadata": {},
          "execution_count": 47
        }
      ]
    },
    {
      "cell_type": "code",
      "source": [
        "pred_class = np.argmax(x_rand1)\n",
        "print(pred_class)\n",
        "plt.imshow(img)"
      ],
      "metadata": {
        "colab": {
          "base_uri": "https://localhost:8080/",
          "height": 303
        },
        "id": "IOVa_xndflL1",
        "outputId": "92b4b429-b6e8-4bb3-f8e5-926575d0dda5"
      },
      "execution_count": null,
      "outputs": [
        {
          "output_type": "stream",
          "name": "stdout",
          "text": [
            "1\n"
          ]
        },
        {
          "output_type": "execute_result",
          "data": {
            "text/plain": [
              "<matplotlib.image.AxesImage at 0x7f8dba169e10>"
            ]
          },
          "metadata": {},
          "execution_count": 48
        },
        {
          "output_type": "display_data",
          "data": {
            "text/plain": [
              "<Figure size 432x288 with 1 Axes>"
            ],
            "image/png": "[encoded data removed]"
          },
          "metadata": {}
        }
      ]
    }
  ],
  "metadata": {
    "accelerator": "GPU",
    "colab": {
      "collapsed_sections": [],
      "name": "PROJETO_FINALIZADO.ipynb",
      "provenance": [],
      "authorship_tag": "ABX9TyN53yrIlAxpnlxDJxRQIGkY",
      "include_colab_link": true
    },
    "gpuClass": "standard",
    "kernelspec": {
      "display_name": "Python 3",
      "name": "python3"
    },
    "language_info": {
      "name": "python"
    }
  },
  "nbformat": 4,
  "nbformat_minor": 0
}